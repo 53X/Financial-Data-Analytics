{
 "cells": [
  {
   "cell_type": "markdown",
   "metadata": {},
   "source": [
    "#  Better Buy: A Comprehensive Comparison Tool for Investors\n",
    "\n",
    "\"Better Buy\" is an interactive model I've created that performs joint analysis and comparisons of two tech companies' business strategies, stock performances, and growth opportunities and recommends the better stock to investors. This model also provides users with detailed visualizations of key growth, performance, and risk metrics to base their decisions. \n",
    "\n",
    "\n",
    "For this project I chose to use pandas and SciPy as well as matplotlib and seaborn for data visualization. The financial strength analysis and valuation portions borrow data from Yahoo Finance through yfinance, while the \"Company and Stock Growth\" Section uses data I manually gathered from the Shopify and Amazon Quarterly Reports. The \"Business Strategy\" Section utilizes evidence I've manually obtained from reading expert analysis articles and customer sentiment of both companies.\n",
    "\n",
    "My model draws its name from the weekly/daily articles published by Motley Fool and featured on Forbes and Yahoo Finance. This project was also inspired by a talk titled \"Data Science & The Future of Investing\" given at Domino's REV 2 Conference. \n",
    "\n",
    "Here are some of the questions I'll address in this notebook:\n",
    "\n",
    "### Business Strategy ###\n",
    "What is the customer base behind each company and how effectively does each leverage this base?\n",
    "What is the historical reputation of each company and its business model in the context of industry?\n",
    "How does each company's organizational structure and recent M&A history affect its appearance to investors?\n",
    "What are some current developments headed by each company and how well do they capitalize on AI?\n",
    "What are some opinions of each company's operational directions as held by shareholders and client businesses?\n",
    "\n",
    "### Financial Strength & Growth ###\n",
    "\n",
    "What is the operating profit and revenue of each company?\n",
    "What is the operating and free cash flow that each company maintains?\n",
    "How do the companies' cash assets compare to their debts and other liabilities?\n",
    "How well has each company taken advantage of emerging markets and what is their revenue potential in these markets?\n",
    "How much will each company increase its earnings per share ratio and operating profits?\n",
    "\n",
    "\n",
    "### Stock Risk & Return Analysis ###\n",
    "What was the moving average of our stocks?\n",
    "What was the daily return average of a stock?\n",
    "What was the correlation between daily returns of different stocks?\n",
    "How much value do we put at risk by investing each company's stock?\n",
    "How can we attempt to predict future stock behavior, especially in market and industry context?\n",
    "\n",
    "### Valuation ###\n",
    "What is the Net Asset Value of each company and how do stock prices vary with respect to it?\n",
    "What are each company's P/FCF and Forward P/E ratios?\n",
    "When are each company's EBIDTA ratios?\n",
    "\n",
    "\n",
    "\n",
    "\n"
   ]
  },
  {
   "cell_type": "code",
   "execution_count": null,
   "metadata": {},
   "outputs": [],
   "source": []
  }
 ],
 "metadata": {
  "kernelspec": {
   "display_name": "Python 3",
   "language": "python",
   "name": "python3"
  },
  "language_info": {
   "codemirror_mode": {
    "name": "ipython",
    "version": 3
   },
   "file_extension": ".py",
   "mimetype": "text/x-python",
   "name": "python",
   "nbconvert_exporter": "python",
   "pygments_lexer": "ipython3",
   "version": "3.6.2"
  }
 },
 "nbformat": 4,
 "nbformat_minor": 2
}
